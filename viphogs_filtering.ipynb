{
 "cells": [
  {
   "cell_type": "code",
   "execution_count": 1,
   "id": "ef1a4ff8",
   "metadata": {},
   "outputs": [],
   "source": [
    "import pandas as pd"
   ]
  },
  {
   "cell_type": "code",
   "execution_count": 3,
   "id": "b9db9b08",
   "metadata": {},
   "outputs": [],
   "source": [
    "from ete3 import NCBITaxa"
   ]
  },
  {
   "cell_type": "code",
   "execution_count": 4,
   "id": "06bba933",
   "metadata": {},
   "outputs": [
    {
     "name": "stderr",
     "output_type": "stream",
     "text": [
      "NCBI database not present yet (first time used?)\n",
      "Updating taxdump.tar.gz from NCBI FTP site (via HTTP)...\n",
      "Done. Parsing...\n"
     ]
    },
    {
     "name": "stdout",
     "output_type": "stream",
     "text": [
      "Loading node names...\n",
      "2444347 names loaded.\n",
      "283288 synonyms loaded.\n",
      "Loading nodes...\n",
      "2444347 nodes loaded.\n",
      "Linking nodes...\n",
      "Tree is loaded.\n",
      "Updating database: /home/yasas/.etetoolkit/taxa.sqlite ...\n",
      " 2444000 generating entries... "
     ]
    },
    {
     "name": "stderr",
     "output_type": "stream",
     "text": [
      "Inserting synonyms:      10000 "
     ]
    },
    {
     "name": "stdout",
     "output_type": "stream",
     "text": [
      "\n",
      "Uploading to /home/yasas/.etetoolkit/taxa.sqlite\n",
      "\n"
     ]
    },
    {
     "name": "stderr",
     "output_type": "stream",
     "text": [
      "Inserting taxid merges:  25000  "
     ]
    },
    {
     "name": "stdout",
     "output_type": "stream",
     "text": [
      "\n"
     ]
    },
    {
     "name": "stderr",
     "output_type": "stream",
     "text": [
      "Inserting taxids:       15000  "
     ]
    },
    {
     "name": "stdout",
     "output_type": "stream",
     "text": [
      "\n"
     ]
    },
    {
     "name": "stderr",
     "output_type": "stream",
     "text": [
      "Inserting taxids:       2440000 "
     ]
    },
    {
     "name": "stdout",
     "output_type": "stream",
     "text": [
      "\n"
     ]
    },
    {
     "name": "stderr",
     "output_type": "stream",
     "text": [
      "Local taxdump.tar.gz seems up-to-date\n"
     ]
    },
    {
     "name": "stdout",
     "output_type": "stream",
     "text": [
      "Loading node names...\n",
      "2444347 names loaded.\n",
      "283288 synonyms loaded.\n",
      "Loading nodes...\n",
      "2444347 nodes loaded.\n",
      "Linking nodes...\n",
      "Tree is loaded.\n",
      "Updating database: /home/yasas/.etetoolkit/taxa.sqlite ...\n",
      " 2444000 generating entries... \n",
      "Uploading to /home/yasas/.etetoolkit/taxa.sqlite\n"
     ]
    },
    {
     "name": "stderr",
     "output_type": "stream",
     "text": [
      "Inserting synonyms:      25000 "
     ]
    },
    {
     "name": "stdout",
     "output_type": "stream",
     "text": [
      "\n"
     ]
    },
    {
     "name": "stderr",
     "output_type": "stream",
     "text": [
      "Inserting taxid merges:  45000  "
     ]
    },
    {
     "name": "stdout",
     "output_type": "stream",
     "text": [
      "\n"
     ]
    },
    {
     "name": "stderr",
     "output_type": "stream",
     "text": [
      "Inserting taxids:       25000  "
     ]
    },
    {
     "name": "stdout",
     "output_type": "stream",
     "text": [
      "\n"
     ]
    },
    {
     "name": "stderr",
     "output_type": "stream",
     "text": [
      "Inserting taxids:       2440000 "
     ]
    },
    {
     "name": "stdout",
     "output_type": "stream",
     "text": [
      "\n"
     ]
    }
   ],
   "source": [
    "ncbi = NCBITaxa()\n",
    "ncbi.update_taxonomy_database()\n"
   ]
  },
  {
   "cell_type": "code",
   "execution_count": 8,
   "id": "b677ce2e",
   "metadata": {},
   "outputs": [],
   "source": [
    "vphmm = pd.read_csv('./Additional_data_vpHMMs_v2.csv')"
   ]
  },
  {
   "cell_type": "code",
   "execution_count": 72,
   "id": "5cbdd932",
   "metadata": {},
   "outputs": [],
   "source": [
    "nc = ncbi.query(\"Host != 'archaea' and Host != 'invertebrates' and Host != 'land plants'\")"
   ]
  },
  {
   "cell_type": "code",
   "execution_count": 9,
   "id": "f572bf8e",
   "metadata": {},
   "outputs": [
    {
     "data": {
      "text/html": [
       "<div>\n",
       "<style scoped>\n",
       "    .dataframe tbody tr th:only-of-type {\n",
       "        vertical-align: middle;\n",
       "    }\n",
       "\n",
       "    .dataframe tbody tr th {\n",
       "        vertical-align: top;\n",
       "    }\n",
       "\n",
       "    .dataframe thead th {\n",
       "        text-align: right;\n",
       "    }\n",
       "</style>\n",
       "<table border=\"1\" class=\"dataframe\">\n",
       "  <thead>\n",
       "    <tr style=\"text-align: right;\">\n",
       "      <th></th>\n",
       "      <th>Number</th>\n",
       "      <th>Associated</th>\n",
       "      <th>TaxRank</th>\n",
       "      <th>MinScore</th>\n",
       "      <th>NextMaxScore</th>\n",
       "    </tr>\n",
       "  </thead>\n",
       "  <tbody>\n",
       "    <tr>\n",
       "      <th>21877</th>\n",
       "      <td>28206</td>\n",
       "      <td>Caudovirales</td>\n",
       "      <td>Order</td>\n",
       "      <td>127:06:00</td>\n",
       "      <td>NaN</td>\n",
       "    </tr>\n",
       "    <tr>\n",
       "      <th>21878</th>\n",
       "      <td>22542</td>\n",
       "      <td>Caudovirales</td>\n",
       "      <td>Order</td>\n",
       "      <td>109:06:00</td>\n",
       "      <td>107:04:00</td>\n",
       "    </tr>\n",
       "    <tr>\n",
       "      <th>21879</th>\n",
       "      <td>24248</td>\n",
       "      <td>Caudovirales</td>\n",
       "      <td>Order</td>\n",
       "      <td>59:01:00</td>\n",
       "      <td>NaN</td>\n",
       "    </tr>\n",
       "    <tr>\n",
       "      <th>21880</th>\n",
       "      <td>17969</td>\n",
       "      <td>Caudovirales</td>\n",
       "      <td>Order</td>\n",
       "      <td>33:00:00</td>\n",
       "      <td>NaN</td>\n",
       "    </tr>\n",
       "    <tr>\n",
       "      <th>21881</th>\n",
       "      <td>27737</td>\n",
       "      <td>Caudovirales</td>\n",
       "      <td>Order</td>\n",
       "      <td>123:09:00</td>\n",
       "      <td>NaN</td>\n",
       "    </tr>\n",
       "    <tr>\n",
       "      <th>...</th>\n",
       "      <td>...</td>\n",
       "      <td>...</td>\n",
       "      <td>...</td>\n",
       "      <td>...</td>\n",
       "      <td>...</td>\n",
       "    </tr>\n",
       "    <tr>\n",
       "      <th>21982</th>\n",
       "      <td>5359</td>\n",
       "      <td>Caudovirales</td>\n",
       "      <td>Order</td>\n",
       "      <td>90:06:00</td>\n",
       "      <td>36:00:00</td>\n",
       "    </tr>\n",
       "    <tr>\n",
       "      <th>21983</th>\n",
       "      <td>31124</td>\n",
       "      <td>Caudovirales</td>\n",
       "      <td>Order</td>\n",
       "      <td>49:08:00</td>\n",
       "      <td>NaN</td>\n",
       "    </tr>\n",
       "    <tr>\n",
       "      <th>21984</th>\n",
       "      <td>6732</td>\n",
       "      <td>Caudovirales</td>\n",
       "      <td>Order</td>\n",
       "      <td>32:06:00</td>\n",
       "      <td>NaN</td>\n",
       "    </tr>\n",
       "    <tr>\n",
       "      <th>21985</th>\n",
       "      <td>28296</td>\n",
       "      <td>Caudovirales</td>\n",
       "      <td>Order</td>\n",
       "      <td>138:08:00</td>\n",
       "      <td>101:01:00</td>\n",
       "    </tr>\n",
       "    <tr>\n",
       "      <th>21997</th>\n",
       "      <td>23505</td>\n",
       "      <td>Caudovirales</td>\n",
       "      <td>Order</td>\n",
       "      <td>72:02:00</td>\n",
       "      <td>56:09:00</td>\n",
       "    </tr>\n",
       "  </tbody>\n",
       "</table>\n",
       "<p>91 rows × 5 columns</p>\n",
       "</div>"
      ],
      "text/plain": [
       "       Number    Associated TaxRank   MinScore NextMaxScore\n",
       "21877   28206  Caudovirales   Order  127:06:00          NaN\n",
       "21878   22542  Caudovirales   Order  109:06:00    107:04:00\n",
       "21879   24248  Caudovirales   Order   59:01:00          NaN\n",
       "21880   17969  Caudovirales   Order   33:00:00          NaN\n",
       "21881   27737  Caudovirales   Order  123:09:00          NaN\n",
       "...       ...           ...     ...        ...          ...\n",
       "21982    5359  Caudovirales   Order   90:06:00     36:00:00\n",
       "21983   31124  Caudovirales   Order   49:08:00          NaN\n",
       "21984    6732  Caudovirales   Order   32:06:00          NaN\n",
       "21985   28296  Caudovirales   Order  138:08:00    101:01:00\n",
       "21997   23505  Caudovirales   Order   72:02:00     56:09:00\n",
       "\n",
       "[91 rows x 5 columns]"
      ]
     },
     "execution_count": 9,
     "metadata": {},
     "output_type": "execute_result"
    }
   ],
   "source": [
    "vphmm.query('Associated == \"Caudovirales\"')"
   ]
  },
  {
   "cell_type": "code",
   "execution_count": 132,
   "id": "92ca10ce",
   "metadata": {},
   "outputs": [
    {
     "data": {
      "text/plain": [
       "array(['Cafeteriavirus', 'Triavirus', 'Variarterivirinae'], dtype=object)"
      ]
     },
     "execution_count": 132,
     "metadata": {},
     "output_type": "execute_result"
    }
   ],
   "source": [
    "vphmm[vphmm[\"Associated\"].str.contains(\"ria\")][\"Associated\"].unique()"
   ]
  },
  {
   "cell_type": "code",
   "execution_count": 11,
   "id": "3e600dac",
   "metadata": {},
   "outputs": [],
   "source": [
    "dc=ncbi.get_descendant_taxa(2731619)"
   ]
  },
  {
   "cell_type": "code",
   "execution_count": null,
   "id": "8f3cdcce",
   "metadata": {},
   "outputs": [],
   "source": [
    "#get all the descendents of caudoviricetes order"
   ]
  },
  {
   "cell_type": "code",
   "execution_count": 123,
   "id": "c5e8de19",
   "metadata": {},
   "outputs": [],
   "source": [
    "descendants = ncbi.get_descendant_taxa('Caudoviricetes')"
   ]
  },
  {
   "cell_type": "code",
   "execution_count": 134,
   "id": "3bb7da82",
   "metadata": {},
   "outputs": [],
   "source": [
    "genus = set()\n",
    "fam = set()\n",
    "subfam = set()"
   ]
  },
  {
   "cell_type": "code",
   "execution_count": 135,
   "id": "fdfff00f",
   "metadata": {},
   "outputs": [],
   "source": [
    "for d in descendants: #extract the genus and family from each descendant\n",
    "    t = ncbi.get_taxid_translator(ncbi.get_lineage(d))\n",
    "    tmp = dict(zip(ncbi.get_rank(t.keys()).values(),t.values()))\n",
    "    if tmp.get('family',None) not in fam:\n",
    "        fam.add(tmp.get('family',None))\n",
    "    if tmp.get('genus',None) not in genus:\n",
    "        genus.add(tmp.get('genus',None))  \n",
    "    if tmp.get('subfamily',None) not in genus:\n",
    "        subfam.add(tmp.get('subfamily',None))  "
   ]
  },
  {
   "cell_type": "code",
   "execution_count": 131,
   "id": "f39518be",
   "metadata": {},
   "outputs": [
    {
     "data": {
      "text/plain": [
       "{'no rank': 'Polaribacter phage P12002S',\n",
       " 'superkingdom': 'Viruses',\n",
       " 'species': 'Incheonvirus P12002S',\n",
       " 'clade': 'Duplodnaviria',\n",
       " 'kingdom': 'Heunggongvirae',\n",
       " 'phylum': 'Uroviricota',\n",
       " 'class': 'Caudoviricetes',\n",
       " 'genus': 'Incheonvirus'}"
      ]
     },
     "execution_count": 131,
     "metadata": {},
     "output_type": "execute_result"
    }
   ],
   "source": [
    "tmp"
   ]
  },
  {
   "cell_type": "code",
   "execution_count": 116,
   "id": "a4ea53d3",
   "metadata": {},
   "outputs": [],
   "source": [
    "caudfam = fam.intersection(set(vphmm[\"Associated\"].unique())) #extract the members of caudoviricetes\n",
    "#(families) that are present in vphmm"
   ]
  },
  {
   "cell_type": "code",
   "execution_count": 117,
   "id": "1f305be9",
   "metadata": {},
   "outputs": [],
   "source": [
    "caudgen = genus.intersection(set(vphmm[\"Associated\"].unique()))#extract the members of caudoviricetes\n",
    "#(genera) that are present in vphmm"
   ]
  },
  {
   "cell_type": "code",
   "execution_count": 137,
   "id": "ec5162ba",
   "metadata": {},
   "outputs": [],
   "source": [
    "caidsubfam = subfam.intersection(set(vphmm[\"Associated\"].unique()))"
   ]
  },
  {
   "cell_type": "code",
   "execution_count": 142,
   "id": "c659c6e1",
   "metadata": {},
   "outputs": [],
   "source": [
    "caudo = vphmm[vphmm[\"Associated\"].isin((caudgen.union(caudfam)).union(caidsubfam))].copy()"
   ]
  },
  {
   "cell_type": "code",
   "execution_count": 143,
   "id": "73e8de45",
   "metadata": {},
   "outputs": [],
   "source": [
    "caudo.to_csv(\"caudovirales_viphogs_210922.csv\",index=False)"
   ]
  }
 ],
 "metadata": {
  "kernelspec": {
   "display_name": "Python 3 (ipykernel)",
   "language": "python",
   "name": "python3"
  },
  "language_info": {
   "codemirror_mode": {
    "name": "ipython",
    "version": 3
   },
   "file_extension": ".py",
   "mimetype": "text/x-python",
   "name": "python",
   "nbconvert_exporter": "python",
   "pygments_lexer": "ipython3",
   "version": "3.10.4"
  }
 },
 "nbformat": 4,
 "nbformat_minor": 5
}
